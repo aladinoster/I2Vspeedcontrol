{
 "cells": [
  {
   "cell_type": "markdown",
   "metadata": {
    "papermill": {
     "duration": 0.032261,
     "end_time": "2019-11-14T13:41:21.224463",
     "exception": false,
     "start_time": "2019-11-14T13:41:21.192202",
     "status": "completed"
    },
    "tags": []
   },
   "source": [
    "# Message simulation for I2V Connectivity\n",
    "\n",
    "The following corresponds to a test for simulating impact of vehicle-to-infrastructure (V2I) communication in traffic systems. \n",
    "\n",
    "## General description\n",
    "\n",
    "For this application it is considered the simulation of microscopic traffic models where longitudinal position follow a specified behivior defined by two main components. The *car following* behavior describes the behavior of the vehicle in its longitudinal dynamics while the *lane change* behavior describes the behavior in the lateral position. \n",
    "\n",
    "In order to modify traffic behavior for a condition, the system is modeled via traffic model where V2I messages modify vehicle speed or lateral position   \n",
    "\n",
    "### Car following behavior\n",
    "\n",
    "For the sake of clarity, the following corresponds to the notations for variable description in the model. It is considered the vehicle position of a vehicle as $x_n$ and the headway space between a vehicle and its leader as $s_n = x_{n-1}-x_{n}$. The vehicle's speed and acceleration are defined as $v_n$,$a_n$ respectively.\n",
    "\n",
    "For a determined vehicle in the network the longitudinal dynamics are determined by the acceleration behavior. In this case it is considred Tampere's Law. \n",
    "\n",
    "$$ \n",
    "a_n(t+T_n) = \\min \\left(c_{1,n-1}\\Delta v_{n-1,n} + \n",
    "c_{2}\\left(\\Delta x_{n,n-1} - \\left(s_0+\\tau v_n(t)\\right)\\right),\n",
    "c_{3}\\left(v^\\star(t) - v_n(t)\\right)\\right)\n",
    "$$\n",
    "\n",
    "One of the main features of this model is the adaptability to a specific speed condition, while preserving properties of the traffic such as the car following behavior in congestion situation. This feature makes it possible to trace features in the fundamental diagram. \n",
    "\n",
    "*To implement the model a `class` object called `Tampere` has been implemented. The class intends to describe the full behavior of the vehicle.* \n",
    "\n",
    "#### Parameters \n",
    "\n",
    "So far parameters in the model have been fixed although random scenarios can be also considered.\n",
    "\n",
    "| Parameter     | Value     | Units |\n",
    ":--------------:|:---------:|:------:\n",
    "$$c_1,c_2,c_3$$ | 0.5       |\n",
    "$$\\tau$$        | $$\\frac{1}{wk_x}$$ | [s]\n",
    "$$w$$           | $$6.25$$  | [m/s]\n",
    "$$k_x$$         | $$0.16$$  | [veh/km]\n",
    "$$u_i$$         | $$25$$    | [m/s]\n",
    "\n",
    "## Simulation Usage \n",
    "\n",
    "Please follow step by step variable definitions for more detail into simulations\n"
   ]
  },
  {
   "cell_type": "code",
   "execution_count": 1,
   "metadata": {
    "papermill": {
     "duration": 2.377517,
     "end_time": "2019-11-14T13:41:23.629651",
     "exception": false,
     "start_time": "2019-11-14T13:41:21.252134",
     "status": "completed"
    },
    "tags": []
   },
   "outputs": [
    {
     "data": {
      "text/html": [
       "\n",
       "    <div class=\"bk-root\">\n",
       "        <a href=\"https://bokeh.pydata.org\" target=\"_blank\" class=\"bk-logo bk-logo-small bk-logo-notebook\"></a>\n",
       "        <span id=\"1001\">Loading BokehJS ...</span>\n",
       "    </div>"
      ]
     },
     "metadata": {},
     "output_type": "display_data"
    },
    {
     "data": {
      "application/javascript": [
       "\n",
       "(function(root) {\n",
       "  function now() {\n",
       "    return new Date();\n",
       "  }\n",
       "\n",
       "  var force = true;\n",
       "\n",
       "  if (typeof root._bokeh_onload_callbacks === \"undefined\" || force === true) {\n",
       "    root._bokeh_onload_callbacks = [];\n",
       "    root._bokeh_is_loading = undefined;\n",
       "  }\n",
       "\n",
       "  var JS_MIME_TYPE = 'application/javascript';\n",
       "  var HTML_MIME_TYPE = 'text/html';\n",
       "  var EXEC_MIME_TYPE = 'application/vnd.bokehjs_exec.v0+json';\n",
       "  var CLASS_NAME = 'output_bokeh rendered_html';\n",
       "\n",
       "  /**\n",
       "   * Render data to the DOM node\n",
       "   */\n",
       "  function render(props, node) {\n",
       "    var script = document.createElement(\"script\");\n",
       "    node.appendChild(script);\n",
       "  }\n",
       "\n",
       "  /**\n",
       "   * Handle when an output is cleared or removed\n",
       "   */\n",
       "  function handleClearOutput(event, handle) {\n",
       "    var cell = handle.cell;\n",
       "\n",
       "    var id = cell.output_area._bokeh_element_id;\n",
       "    var server_id = cell.output_area._bokeh_server_id;\n",
       "    // Clean up Bokeh references\n",
       "    if (id != null && id in Bokeh.index) {\n",
       "      Bokeh.index[id].model.document.clear();\n",
       "      delete Bokeh.index[id];\n",
       "    }\n",
       "\n",
       "    if (server_id !== undefined) {\n",
       "      // Clean up Bokeh references\n",
       "      var cmd = \"from bokeh.io.state import curstate; print(curstate().uuid_to_server['\" + server_id + \"'].get_sessions()[0].document.roots[0]._id)\";\n",
       "      cell.notebook.kernel.execute(cmd, {\n",
       "        iopub: {\n",
       "          output: function(msg) {\n",
       "            var id = msg.content.text.trim();\n",
       "            if (id in Bokeh.index) {\n",
       "              Bokeh.index[id].model.document.clear();\n",
       "              delete Bokeh.index[id];\n",
       "            }\n",
       "          }\n",
       "        }\n",
       "      });\n",
       "      // Destroy server and session\n",
       "      var cmd = \"import bokeh.io.notebook as ion; ion.destroy_server('\" + server_id + \"')\";\n",
       "      cell.notebook.kernel.execute(cmd);\n",
       "    }\n",
       "  }\n",
       "\n",
       "  /**\n",
       "   * Handle when a new output is added\n",
       "   */\n",
       "  function handleAddOutput(event, handle) {\n",
       "    var output_area = handle.output_area;\n",
       "    var output = handle.output;\n",
       "\n",
       "    // limit handleAddOutput to display_data with EXEC_MIME_TYPE content only\n",
       "    if ((output.output_type != \"display_data\") || (!output.data.hasOwnProperty(EXEC_MIME_TYPE))) {\n",
       "      return\n",
       "    }\n",
       "\n",
       "    var toinsert = output_area.element.find(\".\" + CLASS_NAME.split(' ')[0]);\n",
       "\n",
       "    if (output.metadata[EXEC_MIME_TYPE][\"id\"] !== undefined) {\n",
       "      toinsert[toinsert.length - 1].firstChild.textContent = output.data[JS_MIME_TYPE];\n",
       "      // store reference to embed id on output_area\n",
       "      output_area._bokeh_element_id = output.metadata[EXEC_MIME_TYPE][\"id\"];\n",
       "    }\n",
       "    if (output.metadata[EXEC_MIME_TYPE][\"server_id\"] !== undefined) {\n",
       "      var bk_div = document.createElement(\"div\");\n",
       "      bk_div.innerHTML = output.data[HTML_MIME_TYPE];\n",
       "      var script_attrs = bk_div.children[0].attributes;\n",
       "      for (var i = 0; i < script_attrs.length; i++) {\n",
       "        toinsert[toinsert.length - 1].firstChild.setAttribute(script_attrs[i].name, script_attrs[i].value);\n",
       "      }\n",
       "      // store reference to server id on output_area\n",
       "      output_area._bokeh_server_id = output.metadata[EXEC_MIME_TYPE][\"server_id\"];\n",
       "    }\n",
       "  }\n",
       "\n",
       "  function register_renderer(events, OutputArea) {\n",
       "\n",
       "    function append_mime(data, metadata, element) {\n",
       "      // create a DOM node to render to\n",
       "      var toinsert = this.create_output_subarea(\n",
       "        metadata,\n",
       "        CLASS_NAME,\n",
       "        EXEC_MIME_TYPE\n",
       "      );\n",
       "      this.keyboard_manager.register_events(toinsert);\n",
       "      // Render to node\n",
       "      var props = {data: data, metadata: metadata[EXEC_MIME_TYPE]};\n",
       "      render(props, toinsert[toinsert.length - 1]);\n",
       "      element.append(toinsert);\n",
       "      return toinsert\n",
       "    }\n",
       "\n",
       "    /* Handle when an output is cleared or removed */\n",
       "    events.on('clear_output.CodeCell', handleClearOutput);\n",
       "    events.on('delete.Cell', handleClearOutput);\n",
       "\n",
       "    /* Handle when a new output is added */\n",
       "    events.on('output_added.OutputArea', handleAddOutput);\n",
       "\n",
       "    /**\n",
       "     * Register the mime type and append_mime function with output_area\n",
       "     */\n",
       "    OutputArea.prototype.register_mime_type(EXEC_MIME_TYPE, append_mime, {\n",
       "      /* Is output safe? */\n",
       "      safe: true,\n",
       "      /* Index of renderer in `output_area.display_order` */\n",
       "      index: 0\n",
       "    });\n",
       "  }\n",
       "\n",
       "  // register the mime type if in Jupyter Notebook environment and previously unregistered\n",
       "  if (root.Jupyter !== undefined) {\n",
       "    var events = require('base/js/events');\n",
       "    var OutputArea = require('notebook/js/outputarea').OutputArea;\n",
       "\n",
       "    if (OutputArea.prototype.mime_types().indexOf(EXEC_MIME_TYPE) == -1) {\n",
       "      register_renderer(events, OutputArea);\n",
       "    }\n",
       "  }\n",
       "\n",
       "  \n",
       "  if (typeof (root._bokeh_timeout) === \"undefined\" || force === true) {\n",
       "    root._bokeh_timeout = Date.now() + 5000;\n",
       "    root._bokeh_failed_load = false;\n",
       "  }\n",
       "\n",
       "  var NB_LOAD_WARNING = {'data': {'text/html':\n",
       "     \"<div style='background-color: #fdd'>\\n\"+\n",
       "     \"<p>\\n\"+\n",
       "     \"BokehJS does not appear to have successfully loaded. If loading BokehJS from CDN, this \\n\"+\n",
       "     \"may be due to a slow or bad network connection. Possible fixes:\\n\"+\n",
       "     \"</p>\\n\"+\n",
       "     \"<ul>\\n\"+\n",
       "     \"<li>re-rerun `output_notebook()` to attempt to load from CDN again, or</li>\\n\"+\n",
       "     \"<li>use INLINE resources instead, as so:</li>\\n\"+\n",
       "     \"</ul>\\n\"+\n",
       "     \"<code>\\n\"+\n",
       "     \"from bokeh.resources import INLINE\\n\"+\n",
       "     \"output_notebook(resources=INLINE)\\n\"+\n",
       "     \"</code>\\n\"+\n",
       "     \"</div>\"}};\n",
       "\n",
       "  function display_loaded() {\n",
       "    var el = document.getElementById(\"1001\");\n",
       "    if (el != null) {\n",
       "      el.textContent = \"BokehJS is loading...\";\n",
       "    }\n",
       "    if (root.Bokeh !== undefined) {\n",
       "      if (el != null) {\n",
       "        el.textContent = \"BokehJS \" + root.Bokeh.version + \" successfully loaded.\";\n",
       "      }\n",
       "    } else if (Date.now() < root._bokeh_timeout) {\n",
       "      setTimeout(display_loaded, 100)\n",
       "    }\n",
       "  }\n",
       "\n",
       "\n",
       "  function run_callbacks() {\n",
       "    try {\n",
       "      root._bokeh_onload_callbacks.forEach(function(callback) {\n",
       "        if (callback != null)\n",
       "          callback();\n",
       "      });\n",
       "    } finally {\n",
       "      delete root._bokeh_onload_callbacks\n",
       "    }\n",
       "    console.debug(\"Bokeh: all callbacks have finished\");\n",
       "  }\n",
       "\n",
       "  function load_libs(css_urls, js_urls, callback) {\n",
       "    if (css_urls == null) css_urls = [];\n",
       "    if (js_urls == null) js_urls = [];\n",
       "\n",
       "    root._bokeh_onload_callbacks.push(callback);\n",
       "    if (root._bokeh_is_loading > 0) {\n",
       "      console.debug(\"Bokeh: BokehJS is being loaded, scheduling callback at\", now());\n",
       "      return null;\n",
       "    }\n",
       "    if (js_urls == null || js_urls.length === 0) {\n",
       "      run_callbacks();\n",
       "      return null;\n",
       "    }\n",
       "    console.debug(\"Bokeh: BokehJS not loaded, scheduling load and callback at\", now());\n",
       "    root._bokeh_is_loading = css_urls.length + js_urls.length;\n",
       "\n",
       "    function on_load() {\n",
       "      root._bokeh_is_loading--;\n",
       "      if (root._bokeh_is_loading === 0) {\n",
       "        console.debug(\"Bokeh: all BokehJS libraries/stylesheets loaded\");\n",
       "        run_callbacks()\n",
       "      }\n",
       "    }\n",
       "\n",
       "    function on_error() {\n",
       "      console.error(\"failed to load \" + url);\n",
       "    }\n",
       "\n",
       "    for (var i = 0; i < css_urls.length; i++) {\n",
       "      var url = css_urls[i];\n",
       "      const element = document.createElement(\"link\");\n",
       "      element.onload = on_load;\n",
       "      element.onerror = on_error;\n",
       "      element.rel = \"stylesheet\";\n",
       "      element.type = \"text/css\";\n",
       "      element.href = url;\n",
       "      console.debug(\"Bokeh: injecting link tag for BokehJS stylesheet: \", url);\n",
       "      document.body.appendChild(element);\n",
       "    }\n",
       "\n",
       "    for (var i = 0; i < js_urls.length; i++) {\n",
       "      var url = js_urls[i];\n",
       "      var element = document.createElement('script');\n",
       "      element.onload = on_load;\n",
       "      element.onerror = on_error;\n",
       "      element.async = false;\n",
       "      element.src = url;\n",
       "      console.debug(\"Bokeh: injecting script tag for BokehJS library: \", url);\n",
       "      document.head.appendChild(element);\n",
       "    }\n",
       "  };var element = document.getElementById(\"1001\");\n",
       "  if (element == null) {\n",
       "    console.error(\"Bokeh: ERROR: autoload.js configured with elementid '1001' but no matching script tag was found. \")\n",
       "    return false;\n",
       "  }\n",
       "\n",
       "  function inject_raw_css(css) {\n",
       "    const element = document.createElement(\"style\");\n",
       "    element.appendChild(document.createTextNode(css));\n",
       "    document.body.appendChild(element);\n",
       "  }\n",
       "\n",
       "  var js_urls = [\"https://cdn.pydata.org/bokeh/release/bokeh-1.3.4.min.js\", \"https://cdn.pydata.org/bokeh/release/bokeh-widgets-1.3.4.min.js\", \"https://cdn.pydata.org/bokeh/release/bokeh-tables-1.3.4.min.js\", \"https://cdn.pydata.org/bokeh/release/bokeh-gl-1.3.4.min.js\"];\n",
       "  var css_urls = [];\n",
       "\n",
       "  var inline_js = [\n",
       "    function(Bokeh) {\n",
       "      Bokeh.set_log_level(\"info\");\n",
       "    },\n",
       "    \n",
       "    function(Bokeh) {\n",
       "      \n",
       "    },\n",
       "    function(Bokeh) {} // ensure no trailing comma for IE\n",
       "  ];\n",
       "\n",
       "  function run_inline_js() {\n",
       "    \n",
       "    if ((root.Bokeh !== undefined) || (force === true)) {\n",
       "      for (var i = 0; i < inline_js.length; i++) {\n",
       "        inline_js[i].call(root, root.Bokeh);\n",
       "      }if (force === true) {\n",
       "        display_loaded();\n",
       "      }} else if (Date.now() < root._bokeh_timeout) {\n",
       "      setTimeout(run_inline_js, 100);\n",
       "    } else if (!root._bokeh_failed_load) {\n",
       "      console.log(\"Bokeh: BokehJS failed to load within specified timeout.\");\n",
       "      root._bokeh_failed_load = true;\n",
       "    } else if (force !== true) {\n",
       "      var cell = $(document.getElementById(\"1001\")).parents('.cell').data().cell;\n",
       "      cell.output_area.append_execute_result(NB_LOAD_WARNING)\n",
       "    }\n",
       "\n",
       "  }\n",
       "\n",
       "  if (root._bokeh_is_loading === 0) {\n",
       "    console.debug(\"Bokeh: BokehJS loaded, going straight to plotting\");\n",
       "    run_inline_js();\n",
       "  } else {\n",
       "    load_libs(css_urls, js_urls, function() {\n",
       "      console.debug(\"Bokeh: BokehJS plotting callback run at\", now());\n",
       "      run_inline_js();\n",
       "    });\n",
       "  }\n",
       "}(window));"
      ],
      "application/vnd.bokehjs_load.v0+json": "\n(function(root) {\n  function now() {\n    return new Date();\n  }\n\n  var force = true;\n\n  if (typeof root._bokeh_onload_callbacks === \"undefined\" || force === true) {\n    root._bokeh_onload_callbacks = [];\n    root._bokeh_is_loading = undefined;\n  }\n\n  \n\n  \n  if (typeof (root._bokeh_timeout) === \"undefined\" || force === true) {\n    root._bokeh_timeout = Date.now() + 5000;\n    root._bokeh_failed_load = false;\n  }\n\n  var NB_LOAD_WARNING = {'data': {'text/html':\n     \"<div style='background-color: #fdd'>\\n\"+\n     \"<p>\\n\"+\n     \"BokehJS does not appear to have successfully loaded. If loading BokehJS from CDN, this \\n\"+\n     \"may be due to a slow or bad network connection. Possible fixes:\\n\"+\n     \"</p>\\n\"+\n     \"<ul>\\n\"+\n     \"<li>re-rerun `output_notebook()` to attempt to load from CDN again, or</li>\\n\"+\n     \"<li>use INLINE resources instead, as so:</li>\\n\"+\n     \"</ul>\\n\"+\n     \"<code>\\n\"+\n     \"from bokeh.resources import INLINE\\n\"+\n     \"output_notebook(resources=INLINE)\\n\"+\n     \"</code>\\n\"+\n     \"</div>\"}};\n\n  function display_loaded() {\n    var el = document.getElementById(\"1001\");\n    if (el != null) {\n      el.textContent = \"BokehJS is loading...\";\n    }\n    if (root.Bokeh !== undefined) {\n      if (el != null) {\n        el.textContent = \"BokehJS \" + root.Bokeh.version + \" successfully loaded.\";\n      }\n    } else if (Date.now() < root._bokeh_timeout) {\n      setTimeout(display_loaded, 100)\n    }\n  }\n\n\n  function run_callbacks() {\n    try {\n      root._bokeh_onload_callbacks.forEach(function(callback) {\n        if (callback != null)\n          callback();\n      });\n    } finally {\n      delete root._bokeh_onload_callbacks\n    }\n    console.debug(\"Bokeh: all callbacks have finished\");\n  }\n\n  function load_libs(css_urls, js_urls, callback) {\n    if (css_urls == null) css_urls = [];\n    if (js_urls == null) js_urls = [];\n\n    root._bokeh_onload_callbacks.push(callback);\n    if (root._bokeh_is_loading > 0) {\n      console.debug(\"Bokeh: BokehJS is being loaded, scheduling callback at\", now());\n      return null;\n    }\n    if (js_urls == null || js_urls.length === 0) {\n      run_callbacks();\n      return null;\n    }\n    console.debug(\"Bokeh: BokehJS not loaded, scheduling load and callback at\", now());\n    root._bokeh_is_loading = css_urls.length + js_urls.length;\n\n    function on_load() {\n      root._bokeh_is_loading--;\n      if (root._bokeh_is_loading === 0) {\n        console.debug(\"Bokeh: all BokehJS libraries/stylesheets loaded\");\n        run_callbacks()\n      }\n    }\n\n    function on_error() {\n      console.error(\"failed to load \" + url);\n    }\n\n    for (var i = 0; i < css_urls.length; i++) {\n      var url = css_urls[i];\n      const element = document.createElement(\"link\");\n      element.onload = on_load;\n      element.onerror = on_error;\n      element.rel = \"stylesheet\";\n      element.type = \"text/css\";\n      element.href = url;\n      console.debug(\"Bokeh: injecting link tag for BokehJS stylesheet: \", url);\n      document.body.appendChild(element);\n    }\n\n    for (var i = 0; i < js_urls.length; i++) {\n      var url = js_urls[i];\n      var element = document.createElement('script');\n      element.onload = on_load;\n      element.onerror = on_error;\n      element.async = false;\n      element.src = url;\n      console.debug(\"Bokeh: injecting script tag for BokehJS library: \", url);\n      document.head.appendChild(element);\n    }\n  };var element = document.getElementById(\"1001\");\n  if (element == null) {\n    console.error(\"Bokeh: ERROR: autoload.js configured with elementid '1001' but no matching script tag was found. \")\n    return false;\n  }\n\n  function inject_raw_css(css) {\n    const element = document.createElement(\"style\");\n    element.appendChild(document.createTextNode(css));\n    document.body.appendChild(element);\n  }\n\n  var js_urls = [\"https://cdn.pydata.org/bokeh/release/bokeh-1.3.4.min.js\", \"https://cdn.pydata.org/bokeh/release/bokeh-widgets-1.3.4.min.js\", \"https://cdn.pydata.org/bokeh/release/bokeh-tables-1.3.4.min.js\", \"https://cdn.pydata.org/bokeh/release/bokeh-gl-1.3.4.min.js\"];\n  var css_urls = [];\n\n  var inline_js = [\n    function(Bokeh) {\n      Bokeh.set_log_level(\"info\");\n    },\n    \n    function(Bokeh) {\n      \n    },\n    function(Bokeh) {} // ensure no trailing comma for IE\n  ];\n\n  function run_inline_js() {\n    \n    if ((root.Bokeh !== undefined) || (force === true)) {\n      for (var i = 0; i < inline_js.length; i++) {\n        inline_js[i].call(root, root.Bokeh);\n      }if (force === true) {\n        display_loaded();\n      }} else if (Date.now() < root._bokeh_timeout) {\n      setTimeout(run_inline_js, 100);\n    } else if (!root._bokeh_failed_load) {\n      console.log(\"Bokeh: BokehJS failed to load within specified timeout.\");\n      root._bokeh_failed_load = true;\n    } else if (force !== true) {\n      var cell = $(document.getElementById(\"1001\")).parents('.cell').data().cell;\n      cell.output_area.append_execute_result(NB_LOAD_WARNING)\n    }\n\n  }\n\n  if (root._bokeh_is_loading === 0) {\n    console.debug(\"Bokeh: BokehJS loaded, going straight to plotting\");\n    run_inline_js();\n  } else {\n    load_libs(css_urls, js_urls, function() {\n      console.debug(\"Bokeh: BokehJS plotting callback run at\", now());\n      run_inline_js();\n    });\n  }\n}(window));"
     },
     "metadata": {},
     "output_type": "display_data"
    }
   ],
   "source": [
    "from carfollow import Tampere, W_I, U_I, K_X, A_MIN, A_MAX\n",
    "from support import speed_pulse\n",
    "from messages import Msg1, Msg2\n",
    "import numpy as np\n",
    "import pandas as pd\n",
    "import datetime as dt\n",
    "import csv \n",
    "\n",
    "from plottools import plot_single_trace, plot_xva, plot_histogram, plot_multiple_trajectories\n",
    "from bokeh.plotting import figure, show, output_file\n",
    "from bokeh.io import output_notebook, export_png\n",
    "from bokeh.layouts import row, column\n",
    "\n",
    "output_notebook()"
   ]
  },
  {
   "cell_type": "markdown",
   "metadata": {
    "papermill": {
     "duration": 0.028258,
     "end_time": "2019-11-14T13:41:23.688580",
     "exception": false,
     "start_time": "2019-11-14T13:41:23.660322",
     "status": "completed"
    },
    "tags": []
   },
   "source": [
    "#### Hyper parameter variation for sensitivity analysis\n",
    "\n",
    "* `MPR`: Market penetration rate [0,1]\n",
    "* `Q_PERC`: Percentage of maximum flow (0,1]\n",
    "* `MIN_DIST`: Minium distance for message broadcasting [4000,14000]"
   ]
  },
  {
   "cell_type": "code",
   "execution_count": 2,
   "metadata": {
    "papermill": {
     "duration": 0.059305,
     "end_time": "2019-11-14T13:41:23.787842",
     "exception": false,
     "start_time": "2019-11-14T13:41:23.728537",
     "status": "completed"
    },
    "tags": [
     "injected-parameters"
    ]
   },
   "outputs": [],
   "source": [
    "# Parameters\n",
    "MPR = 0\n",
    "MIN_DIST = 5000\n",
    "Q_PERC = 0.3\n"
   ]
  },
  {
   "cell_type": "markdown",
   "metadata": {
    "papermill": {
     "duration": 0.034559,
     "end_time": "2019-11-14T13:41:23.860446",
     "exception": false,
     "start_time": "2019-11-14T13:41:23.825887",
     "status": "completed"
    },
    "tags": []
   },
   "source": [
    "## Input definitions \n",
    "\n",
    "Main input definitions for the simulation such as the `simulation time`, `flow`, `distance to congestion`, `congestion length`, `perception radious`\n",
    "\n",
    "**Important note**: To run simulations be sure to start always from the beginning\n",
    "\n",
    "### <span style=\"color:red\">Define parameters below </span>\n",
    "\n",
    "<span style= \"color:red\">See comments for more details </span>\n",
    "\n",
    "* simulation time: `time`\n",
    "* works position: `X_CONGESTION`\n",
    "* works length: `L_CONGESTION`\n",
    "* radious of messages: `PERCEP_RADIOUS`"
   ]
  },
  {
   "cell_type": "code",
   "execution_count": 3,
   "metadata": {
    "papermill": {
     "duration": 0.049406,
     "end_time": "2019-11-14T13:41:23.957060",
     "exception": false,
     "start_time": "2019-11-14T13:41:23.907654",
     "status": "completed"
    },
    "tags": []
   },
   "outputs": [],
   "source": [
    "# Constant values\n",
    "N = 100  # Number of vehicles to simulate\n",
    "T_TOTAL = 960  # Simulation time [s]\n",
    "time = np.arange(T_TOTAL)  # Time vector\n",
    "\n",
    "# Traffic characteristics\n",
    "X_CONGESTION = 15000  # Position of congestion in space [m]\n",
    "L_CONGESTION = 1500  # Approximate congestion length in space [m]\n",
    "\n",
    "# Messages for V2V\n",
    "SPEED_REDUCTION = 5.5  # Amount of speed reduction [m/s]\n",
    "PERCEP_RADIOUS = 3000  # Radious of perception of the broadcasted messages [m]"
   ]
  },
  {
   "cell_type": "markdown",
   "metadata": {
    "papermill": {
     "duration": 0.049464,
     "end_time": "2019-11-14T13:41:24.041490",
     "exception": false,
     "start_time": "2019-11-14T13:41:23.992026",
     "status": "completed"
    },
    "tags": []
   },
   "source": [
    "## Vehicle definitions \n",
    "\n",
    "In the following cell content regarding the vehicle will be defined in particular the `flow`. The current capacity value is: "
   ]
  },
  {
   "cell_type": "markdown",
   "metadata": {
    "papermill": {
     "duration": 0.029265,
     "end_time": "2019-11-14T13:41:24.105902",
     "exception": false,
     "start_time": "2019-11-14T13:41:24.076637",
     "status": "completed"
    },
    "tags": []
   },
   "source": [
    "\n",
    "\n",
    "### <span style=\"color:red\">Define parameters below </span>\n",
    "\n",
    "<span style= \"color:red\">See comments for more details </span>\n",
    "\n",
    "* Amount of flow w.r.t to capacity: `Q_PERC`"
   ]
  },
  {
   "cell_type": "code",
   "execution_count": 4,
   "metadata": {
    "papermill": {
     "duration": 0.065589,
     "end_time": "2019-11-14T13:41:24.204321",
     "exception": false,
     "start_time": "2019-11-14T13:41:24.138732",
     "status": "completed"
    },
    "tags": []
   },
   "outputs": [],
   "source": [
    "# Capacity\n",
    "C = (U_I * W_I * K_X) / (W_I + U_I)\n",
    "# print(f\"Capacity value per lane: {C*3600} [veh/h]\")\n",
    "\n",
    "# Vehicle Initial position / speed\n",
    "TF = C * Q_PERC"
   ]
  },
  {
   "cell_type": "code",
   "execution_count": 5,
   "metadata": {
    "papermill": {
     "duration": 0.272601,
     "end_time": "2019-11-14T13:41:24.516857",
     "exception": false,
     "start_time": "2019-11-14T13:41:24.244256",
     "status": "completed"
    },
    "tags": []
   },
   "outputs": [],
   "source": [
    "# Vehicle initializer\n",
    "X0 = np.flip(np.arange(0, N) * (W_I + U_I) / (W_I * K_X) * 1 / Q_PERC)\n",
    "V0 = np.ones(N) * U_I\n",
    "A0 = np.zeros(N)\n",
    "\n",
    "veh_list = []\n",
    "\n",
    "np.random.seed(42)  # Reproducibility\n",
    "ID_CAV = np.random.randint(1, N - 1, int(N * MPR))  # Id Connected Vehicles\n",
    "D_CLASS = {k: \"CAV\" for k in ID_CAV}\n",
    "V_CLASS = [D_CLASS.get(i, \"HDV\") for i in range(N)]  # All vehicle types\n",
    "\n",
    "# Initializing vehicles\n",
    "Tampere.reset()\n",
    "for x0, v0, vtype in zip(X0, V0, V_CLASS):\n",
    "    veh_list.append(Tampere(x0=x0, v0=v0, l0=0, veh_type=vtype))\n",
    "\n",
    "# Setting leader for vehicle i\n",
    "for i in range(1, N):\n",
    "    veh_list[i].set_leader(veh_list[i - 1])\n",
    "\n",
    "ID_CAVN = [i for i, j in enumerate(V_CLASS) if j == \"CAV\"]"
   ]
  },
  {
   "cell_type": "markdown",
   "metadata": {
    "papermill": {
     "duration": 0.046042,
     "end_time": "2019-11-14T13:41:24.606962",
     "exception": false,
     "start_time": "2019-11-14T13:41:24.560920",
     "status": "completed"
    },
    "tags": []
   },
   "source": [
    "## Message characteristics \n",
    "\n",
    "The following cell computes the distances at which the messages are going to be broadcasted "
   ]
  },
  {
   "cell_type": "code",
   "execution_count": 6,
   "metadata": {
    "papermill": {
     "duration": 0.086297,
     "end_time": "2019-11-14T13:41:24.728677",
     "exception": false,
     "start_time": "2019-11-14T13:41:24.642380",
     "status": "completed"
    },
    "tags": []
   },
   "outputs": [],
   "source": [
    "# Scenario conditions\n",
    "D_ACCEPT = X_CONGESTION - 1000  # Broad casting messages @ 14Km\n",
    "D_ACCEPT = D_ACCEPT - np.random.exponential(PERCEP_RADIOUS, N * 1000)\n",
    "D_ACCEPT = D_ACCEPT[(D_ACCEPT > MIN_DIST) & (D_ACCEPT < X_CONGESTION)]\n",
    "D_ACCEPT = np.random.choice(D_ACCEPT, N)\n",
    "\n",
    "# accept_dist = plot_histogram(D_ACCEPT,\"Acceptane Distance [Km]\")\n",
    "# show(accept_dist)"
   ]
  },
  {
   "cell_type": "markdown",
   "metadata": {
    "papermill": {
     "duration": 0.040962,
     "end_time": "2019-11-14T13:41:24.814831",
     "exception": false,
     "start_time": "2019-11-14T13:41:24.773869",
     "status": "completed"
    },
    "tags": []
   },
   "source": [
    "## Message information \n",
    "\n",
    "The following is just to illustrate the message generation and definitions for the simulation "
   ]
  },
  {
   "cell_type": "code",
   "execution_count": 7,
   "metadata": {
    "papermill": {
     "duration": 0.043312,
     "end_time": "2019-11-14T13:41:24.893514",
     "exception": false,
     "start_time": "2019-11-14T13:41:24.850202",
     "status": "completed"
    },
    "tags": []
   },
   "outputs": [],
   "source": [
    "# Road works speed profile\n",
    "def lead_spd(x):\n",
    "    \"\"\"  Leader's function to control speed drop in space \n",
    "         Speed Drop: 20 m/s \n",
    "         Position: 15 Km\n",
    "         Duration: 20 Km\n",
    "    \"\"\"\n",
    "    return speed_pulse(x, drop=20, delay=X_CONGESTION, duration=L_CONGESTION)\n",
    "\n",
    "# x_t = np.linspace(0, 20000, 20000)\n",
    "# v_t = lead_spd(x_t)\n",
    "# leader_xt = plot_single_trace(\n",
    "#      x_t, v_t, \"Leaders' speed\", \"Space [m]\", \"Speed [m/s]\"\n",
    "# )\n",
    "# show(leader_xt)"
   ]
  },
  {
   "cell_type": "raw",
   "metadata": {
    "papermill": {
     "duration": 0.057853,
     "end_time": "2019-11-14T13:41:24.995695",
     "exception": false,
     "start_time": "2019-11-14T13:41:24.937842",
     "status": "completed"
    },
    "tags": []
   },
   "source": [
    "# Visualizing sent messgages\n",
    "\n",
    "send_message = Msg2\n",
    "tx_message = []\n",
    "\n",
    "for veh in veh_list:\n",
    "    d_accept = D_ACCEPT[veh.idx]\n",
    "    tx_message.append(send_message(d_accept))\n",
    "    \n",
    "x_ss = np.linspace(0,20000,1000)\n",
    "    \n",
    "acc_values = np.array(list(map(lambda x: x(x_ss), tx_message)))\n",
    "\n",
    "p=figure(title=\"Set of messages transmitted\")\n",
    "p.xaxis.axis_label = \"Position [m]\"\n",
    "p.yaxis.axis_label = \"Speed [m/s]\"\n",
    "for ac,vc in zip(acc_values,V_CLASS):\n",
    "    if vc == \"CAV\":\n",
    "        p.line(x_ss,ac,color='red')  \n",
    "show(p)    "
   ]
  },
  {
   "cell_type": "markdown",
   "metadata": {
    "papermill": {
     "duration": 0.049723,
     "end_time": "2019-11-14T13:41:25.078964",
     "exception": false,
     "start_time": "2019-11-14T13:41:25.029241",
     "status": "completed"
    },
    "tags": []
   },
   "source": [
    "## Main simulation\n",
    "\n",
    "The following code defines the simulation that is run. Execute the code directly in case you want to modify the message change `Msg1` by `Msg2`"
   ]
  },
  {
   "cell_type": "code",
   "execution_count": 8,
   "metadata": {
    "papermill": {
     "duration": 2.971091,
     "end_time": "2019-11-14T13:41:28.111830",
     "exception": false,
     "start_time": "2019-11-14T13:41:25.140739",
     "status": "completed"
    },
    "tags": []
   },
   "outputs": [],
   "source": [
    "# Dynamical evalution\n",
    "X = X0\n",
    "V = V0\n",
    "A = A0\n",
    "\n",
    "send_message = Msg2  # Msg2 # Defines the type of message to be send\n",
    "\n",
    "d_accept = X_CONGESTION - 1000\n",
    "msg_fix = send_message(d_accept)\n",
    "\n",
    "for t in time:\n",
    "    for veh in veh_list:\n",
    "        if veh.type == \"CAV\" and not veh.acc:\n",
    "            d_accept = D_ACCEPT[veh.idx]\n",
    "            msg = send_message(d_accept)\n",
    "            veh.register_control_speed(msg)\n",
    "        elif veh.type == \"HDV\" and not veh.acc:\n",
    "            veh.register_control_speed(msg_fix)\n",
    "\n",
    "        veh.step_evolution(control=lead_spd)\n",
    "\n",
    "    V = np.vstack((V, np.array([veh.v for veh in veh_list])))\n",
    "    X = np.vstack((X, np.array([veh.x for veh in veh_list])))\n",
    "    A = np.vstack((A, np.array([veh.a for veh in veh_list])))\n",
    "\n",
    "V = V[1:, :]\n",
    "X = X[1:, :]\n",
    "A = A[1:, :]"
   ]
  },
  {
   "cell_type": "markdown",
   "metadata": {
    "papermill": {
     "duration": null,
     "end_time": null,
     "exception": null,
     "start_time": null,
     "status": "completed"
    },
    "tags": []
   },
   "source": [
    "# Indicators \n",
    "\n",
    "The following produces the total travel time for vehicles"
   ]
  },
  {
   "cell_type": "code",
   "execution_count": null,
   "metadata": {
    "papermill": {
     "duration": null,
     "end_time": null,
     "exception": null,
     "start_time": null,
     "status": "completed"
    },
    "tags": []
   },
   "outputs": [],
   "source": [
    "df_x = pd.DataFrame(X)\n",
    "now = dt.datetime.now()\n",
    "delta = dt.timedelta(seconds=1)\n",
    "time_vector = [now+n*delta for n in range(T_TOTAL)]\n",
    "df_x.index = time_vector \n",
    "\n",
    "def find_travel_time(df):\n",
    "    time_entry  = min(df[df>df_x.iloc[0,0]].index) # minimum time after leader entrance \n",
    "    time_exit = max(df[df<X_CONGESTION+L_CONGESTION].index) # maximum time before exit\n",
    "    travel_time = time_exit-time_entry\n",
    "    return travel_time.total_seconds()\n",
    "\n",
    "ttt = df_x.apply(find_travel_time)\n",
    "\n",
    "tt_mean,tt_var = np.mean(ttt),np.std(ttt) \n",
    "ttt = sum(ttt)\n",
    "# tthist = plot_histogram(ttt)\n",
    "# show(tthist)"
   ]
  },
  {
   "cell_type": "markdown",
   "metadata": {
    "papermill": {
     "duration": null,
     "end_time": null,
     "exception": null,
     "start_time": null,
     "status": "completed"
    },
    "tags": []
   },
   "source": [
    "# Plots and results \n",
    "\n",
    "The following are extracts of some plots and results to be analyzed "
   ]
  },
  {
   "cell_type": "code",
   "execution_count": null,
   "metadata": {
    "papermill": {
     "duration": null,
     "end_time": null,
     "exception": null,
     "start_time": null,
     "status": "completed"
    },
    "tags": []
   },
   "outputs": [],
   "source": [
    "# Creating plots\n",
    "x_t = time\n",
    "v_t = V[:, 0]\n",
    "leader_vt = plot_single_trace(x_t, v_t, \"Leaders' speed\", \"Time [s]\", \"Speed [m/s]\")\n",
    "x_t = time\n",
    "a_t = A[:, 0]\n",
    "leader_at = plot_single_trace(x_t, a_t, \"Leaders' acceleration\", \"Time [m]\", \"Acceleration [m/s²]\")\n",
    "zooms = ((MIN_DIST, X_CONGESTION + L_CONGESTION), (-1, U_I + 1), (A_MIN - 0.5, A_MAX + 0.5))\n",
    "titles = (\n",
    "    f\"X-Time MPR={MPR*100}% F={TF*3600}[veh/h] D={MIN_DIST}[m]\",\n",
    "    f\"V-Time MPR={MPR*100}% F={TF*3600}[veh/h] D={MIN_DIST}[m]\",\n",
    "    f\"X-Time MPR={MPR*100}% F={TF*3600}[veh/h] D={MIN_DIST}[m]\"\n",
    "  )\n",
    "pos, spd, acc = plot_xva(time, X, V, A, y_range=zooms, titles=titles)\n",
    "poswoz = plot_multiple_trajectories(time, X, V, titles[0], \"Time [secs]\", \"Position [m]\")\n",
    "# show(leader_at)"
   ]
  },
  {
   "cell_type": "markdown",
   "metadata": {
    "papermill": {
     "duration": null,
     "end_time": null,
     "exception": null,
     "start_time": null,
     "status": "completed"
    },
    "tags": []
   },
   "source": [
    "# Exporting files\n",
    "\n",
    "The following are extracts of some plots and results to be analyzed "
   ]
  },
  {
   "cell_type": "code",
   "execution_count": null,
   "metadata": {
    "papermill": {
     "duration": null,
     "end_time": null,
     "exception": null,
     "start_time": null,
     "status": "completed"
    },
    "tags": []
   },
   "outputs": [],
   "source": [
    "# Writting CSV File for Phem \n",
    "\n",
    "df_X = pd.DataFrame(X)\n",
    "df_X = df_X.melt(var_name=\"id\",value_name=\"x\")\n",
    "df_X = df_X.reset_index()\n",
    "df_X = df_X.rename(columns={'index': 'time',\"id\":\"vehicle number\"})\n",
    "df_X[\"y\"] = 0\n",
    "df_v = pd.DataFrame(V)\n",
    "df_V = df_v.melt(var_name=\"id\",value_name=\"v\")\n",
    "df_X[\"speed\"]=df_V[\"v\"]*3.6 \n",
    "df_X[\"road inclination\"] = 0 \n",
    "df_X[\"vehicle type\"] = 100\n",
    "df_X[\"segment number\"] = 0\n",
    "correct_order = [0,2,3,1,4,5,6,7]\n",
    "df_X = df_X[df_X.columns[correct_order]]\n",
    "data = \"data/csv/\"\n",
    "filename = f\"phem_mpr-{MPR}_q-{Q_PERC}_d-{MIN_DIST}.csv\"\n",
    "df_X.to_csv(data+filename)"
   ]
  },
  {
   "cell_type": "code",
   "execution_count": null,
   "metadata": {
    "papermill": {
     "duration": null,
     "end_time": null,
     "exception": null,
     "start_time": null,
     "status": "completed"
    },
    "tags": []
   },
   "outputs": [],
   "source": [
    "# Writting trajectories file\n",
    "data = \"data/\"\n",
    "filename = f\"img/cases/postition/pos_mpr-{MPR}_q-{Q_PERC}_d-{MIN_DIST}.png\"\n",
    "export_png(pos, filename=data + filename)\n",
    "filename = f\"img/cases/postition/poswoz_mpr-{MPR}_q-{Q_PERC}_d-{MIN_DIST}.png\"\n",
    "export_png(poswoz, filename=data + filename)\n",
    "print(f\"File: {filename} has been saved\")\n",
    "filename = f\"img/cases/speed/spd_mpr-{MPR}_q-{Q_PERC}_d-{MIN_DIST}.png\"\n",
    "export_png(spd, filename=data + filename)\n",
    "print(f\"File: {filename} has been saved\")\n",
    "filename = f\"img/cases/acceleration/acc_mpr-{MPR}_q-{Q_PERC}_d-{MIN_DIST}.png\"\n",
    "export_png(acc, filename=data + filename)\n",
    "print(f\"File: {filename} has been saved\")"
   ]
  },
  {
   "cell_type": "code",
   "execution_count": null,
   "metadata": {
    "papermill": {
     "duration": null,
     "end_time": null,
     "exception": null,
     "start_time": null,
     "status": "completed"
    },
    "tags": []
   },
   "outputs": [],
   "source": [
    "# Writting indicators file \n",
    "\n",
    "csvTitle = ['mpr','q','distance','meanTT','stdTT','totalTT']\n",
    "csvData = [MPR,TF,MIN_DIST,tt_mean,tt_var,ttt]\n",
    "print(f\"MPR:{MPR},Q:{TF},D:{MIN_DIST}\")\n",
    "\n",
    "try:\n",
    "    with open('data/Indicators.csv','a') as writeFile:\n",
    "        writer = csv.writer(writeFile)\n",
    "        writer.writerow(csvData)\n",
    "except FileNotFoundError:\n",
    "    with open('data/Indicators.csv','w') as writeFile:\n",
    "        writer = csv.writer(writeFile)\n",
    "        writer.writerow(csvTitle)\n",
    "        writer.writerow(csvData)\n",
    "        "
   ]
  },
  {
   "cell_type": "markdown",
   "metadata": {
    "papermill": {
     "duration": null,
     "end_time": null,
     "exception": null,
     "start_time": null,
     "status": "completed"
    },
    "tags": []
   },
   "source": [
    "A. Ladino"
   ]
  }
 ],
 "metadata": {
  "celltoolbar": "Tags",
  "file_extension": ".py",
  "kernelspec": {
   "display_name": "Python 3",
   "language": "python",
   "name": "python3"
  },
  "language_info": {
   "codemirror_mode": {
    "name": "ipython",
    "version": 3
   },
   "file_extension": ".py",
   "mimetype": "text/x-python",
   "name": "python",
   "nbconvert_exporter": "python",
   "pygments_lexer": "ipython3",
   "version": "3.7.5"
  },
  "mimetype": "text/x-python",
  "name": "python",
  "npconvert_exporter": "python",
  "papermill": {
   "duration": 14.440023,
   "end_time": "2019-11-14T13:41:33.327869",
   "environment_variables": {},
   "exception": null,
   "input_path": "general.ipynb",
   "output_path": "general.ipynb",
   "parameters": {
    "MIN_DIST": 5000,
    "MPR": 0,
    "Q_PERC": 0.3
   },
   "start_time": "2019-11-14T13:41:18.887846",
   "version": "1.2.0"
  },
  "pygments_lexer": "ipython3",
  "version": 3
 },
 "nbformat": 4,
 "nbformat_minor": 4
}
