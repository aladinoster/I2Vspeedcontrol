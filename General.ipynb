{
 "cells": [
  {
   "cell_type": "markdown",
   "metadata": {
    "papermill": {
     "duration": 0.013152,
     "end_time": "2019-11-26T15:01:36.194135",
     "exception": false,
     "start_time": "2019-11-26T15:01:36.180983",
     "status": "completed"
    },
    "tags": []
   },
   "source": [
    "# Message simulation for I2V Connectivity\n",
    "\n",
    "The following corresponds to a test for simulating impact of vehicle-to-infrastructure (V2I) communication in traffic systems. \n",
    "\n",
    "## General description\n",
    "\n",
    "For this application it is considered the simulation of microscopic traffic models where longitudinal position follow a specified behivior defined by two main components. The *car following* behavior describes the behavior of the vehicle in its longitudinal dynamics while the *lane change* behavior describes the behavior in the lateral position. \n",
    "\n",
    "In order to modify traffic behavior for a condition, the system is modeled via traffic model where V2I messages modify vehicle speed or lateral position   \n",
    "\n",
    "### Car following behavior\n",
    "\n",
    "For the sake of clarity, the following corresponds to the notations for variable description in the model. It is considered the vehicle position of a vehicle as $x_n$ and the headway space between a vehicle and its leader as $s_n = x_{n-1}-x_{n}$. The vehicle's speed and acceleration are defined as $v_n$,$a_n$ respectively.\n",
    "\n",
    "For a determined vehicle in the network the longitudinal dynamics are determined by the acceleration behavior. In this case it is considred Tampere's Law. \n",
    "\n",
    "$$ \n",
    "a_n(t+T_n) = \\min \\left(c_{1,n-1}\\Delta v_{n-1,n} + \n",
    "c_{2}\\left(\\Delta x_{n,n-1} - \\left(s_0+\\tau v_n(t)\\right)\\right),\n",
    "c_{3}\\left(v^\\star(t) - v_n(t)\\right)\\right)\n",
    "$$\n",
    "\n",
    "One of the main features of this model is the adaptability to a specific speed condition, while preserving properties of the traffic such as the car following behavior in congestion situation. This feature makes it possible to trace features in the fundamental diagram. \n",
    "\n",
    "*To implement the model a `class` object called `Tampere` has been implemented. The class intends to describe the full behavior of the vehicle.* \n",
    "\n",
    "#### Parameters \n",
    "\n",
    "So far parameters in the model have been fixed although random scenarios can be also considered.\n",
    "\n",
    "| Parameter     | Value     | Units |\n",
    ":--------------:|:---------:|:------:\n",
    "$$c_1,c_2,c_3$$ | 0.5       |\n",
    "$$\\tau$$        | $$\\frac{1}{wk_x}$$ | [s]\n",
    "$$w$$           | $$6.25$$  | [m/s]\n",
    "$$k_x$$         | $$0.16$$  | [veh/km]\n",
    "$$u_i$$         | $$25$$    | [m/s]\n",
    "\n",
    "## Simulation Usage \n",
    "\n",
    "Please follow step by step variable definitions for more detail into simulations\n"
   ]
  },
  {
   "cell_type": "code",
   "execution_count": null,
   "metadata": {
    "papermill": {
     "duration": 0.777142,
     "end_time": "2019-11-26T15:01:36.984346",
     "exception": false,
     "start_time": "2019-11-26T15:01:36.207204",
     "status": "completed"
    },
    "tags": []
   },
   "outputs": [],
   "source": [
    "from carfollow import Tampere, W_I, U_I, K_X, A_MIN, A_MAX\n",
    "from support import speed_pulse\n",
    "from messages import Msg1, Msg2\n",
    "import numpy as np\n",
    "import pandas as pd\n",
    "import datetime as dt\n",
    "import csv \n",
    "\n",
    "from plottools import plot_single_trace, plot_xva, plot_histogram, plot_multiple_trajectories\n",
    "from bokeh.plotting import figure, show, output_file\n",
    "from bokeh.io import output_notebook, export_png\n",
    "from bokeh.layouts import row, column\n",
    "\n",
    "output_notebook()"
   ]
  },
  {
   "cell_type": "markdown",
   "metadata": {
    "papermill": {
     "duration": 0.016934,
     "end_time": "2019-11-26T15:01:37.014643",
     "exception": false,
     "start_time": "2019-11-26T15:01:36.997709",
     "status": "completed"
    },
    "tags": []
   },
   "source": [
    "#### Hyper parameter variation for sensitivity analysis\n",
    "\n",
    "* `MPR`: Market penetration rate [0,1]\n",
    "* `Q_PERC`: Percentage of maximum flow (0,1]\n",
    "* `MIN_DIST`: Minium distance for message broadcasting [4000,14000]"
   ]
  },
  {
   "cell_type": "code",
   "execution_count": null,
   "metadata": {
    "papermill": {
     "duration": 0.021067,
     "end_time": "2019-11-26T15:01:37.049182",
     "exception": false,
     "start_time": "2019-11-26T15:01:37.028115",
     "status": "completed"
    },
    "tags": [
     "injected-parameters"
    ]
   },
   "outputs": [],
   "source": [
    "# Parameters\n",
    "MPR = 0.4\n",
    "MIN_DIST = 10000\n",
    "Q_PERC = 1\n"
   ]
  },
  {
   "cell_type": "markdown",
   "metadata": {
    "papermill": {
     "duration": 0.013857,
     "end_time": "2019-11-26T15:01:37.076447",
     "exception": false,
     "start_time": "2019-11-26T15:01:37.062590",
     "status": "completed"
    },
    "tags": []
   },
   "source": [
    "## Input definitions \n",
    "\n",
    "Main input definitions for the simulation such as the `simulation time`, `flow`, `distance to congestion`, `congestion length`, `perception radious`\n",
    "\n",
    "**Important note**: To run simulations be sure to start always from the beginning\n",
    "\n",
    "### <span style=\"color:red\">Define parameters below </span>\n",
    "\n",
    "<span style= \"color:red\">See comments for more details </span>\n",
    "\n",
    "* simulation time: `time`\n",
    "* works position: `X_CONGESTION`\n",
    "* works length: `L_CONGESTION`\n",
    "* radious of messages: `PERCEP_RADIOUS`"
   ]
  },
  {
   "cell_type": "code",
   "execution_count": null,
   "metadata": {
    "papermill": {
     "duration": 0.025643,
     "end_time": "2019-11-26T15:01:37.116298",
     "exception": false,
     "start_time": "2019-11-26T15:01:37.090655",
     "status": "completed"
    },
    "tags": []
   },
   "outputs": [],
   "source": [
    "# Constant values\n",
    "N = 100  # Number of vehicles to simulate\n",
    "T_TOTAL = 960  # Simulation time [s]\n",
    "time = np.arange(T_TOTAL)  # Time vector\n",
    "\n",
    "# Traffic characteristics\n",
    "X_CONGESTION = 15000  # Position of congestion in space [m]\n",
    "L_CONGESTION = 1500  # Approximate congestion length in space [m]\n",
    "\n",
    "# Messages for V2V\n",
    "SPEED_REDUCTION = 5.5  # Amount of speed reduction [m/s]\n",
    "PERCEP_RADIOUS = 3000  # Radious of perception of the broadcasted messages [m]"
   ]
  },
  {
   "cell_type": "markdown",
   "metadata": {
    "papermill": {
     "duration": 0.013123,
     "end_time": "2019-11-26T15:01:37.143034",
     "exception": false,
     "start_time": "2019-11-26T15:01:37.129911",
     "status": "completed"
    },
    "tags": []
   },
   "source": [
    "## Vehicle definitions \n",
    "\n",
    "In the following cell content regarding the vehicle will be defined in particular the `flow`. The current capacity value is: "
   ]
  },
  {
   "cell_type": "markdown",
   "metadata": {
    "papermill": {
     "duration": 0.013191,
     "end_time": "2019-11-26T15:01:37.169456",
     "exception": false,
     "start_time": "2019-11-26T15:01:37.156265",
     "status": "completed"
    },
    "tags": []
   },
   "source": [
    "\n",
    "\n",
    "### <span style=\"color:red\">Define parameters below </span>\n",
    "\n",
    "<span style= \"color:red\">See comments for more details </span>\n",
    "\n",
    "* Amount of flow w.r.t to capacity: `Q_PERC`"
   ]
  },
  {
   "cell_type": "code",
   "execution_count": null,
   "metadata": {
    "papermill": {
     "duration": 0.022156,
     "end_time": "2019-11-26T15:01:37.204963",
     "exception": false,
     "start_time": "2019-11-26T15:01:37.182807",
     "status": "completed"
    },
    "tags": []
   },
   "outputs": [],
   "source": [
    "# Capacity\n",
    "C = (U_I * W_I * K_X) / (W_I + U_I)\n",
    "# print(f\"Capacity value per lane: {C*3600} [veh/h]\")\n",
    "\n",
    "# Vehicle Initial position / speed\n",
    "TF = C * Q_PERC"
   ]
  },
  {
   "cell_type": "code",
   "execution_count": null,
   "metadata": {
    "papermill": {
     "duration": 0.036433,
     "end_time": "2019-11-26T15:01:37.267845",
     "exception": false,
     "start_time": "2019-11-26T15:01:37.231412",
     "status": "completed"
    },
    "tags": []
   },
   "outputs": [],
   "source": [
    "# Vehicle initializer\n",
    "X0 = np.flip(np.arange(0, N) * (W_I + U_I) / (W_I * K_X) * 1 / Q_PERC)\n",
    "V0 = np.ones(N) * U_I\n",
    "A0 = np.zeros(N)\n",
    "\n",
    "veh_list = []\n",
    "\n",
    "np.random.seed(42)  # Reproducibility\n",
    "ID_CAV = np.random.randint(1, N - 1, int(N * MPR))  # Id Connected Vehicles\n",
    "D_CLASS = {k: \"CAV\" for k in ID_CAV}\n",
    "V_CLASS = [D_CLASS.get(i, \"HDV\") for i in range(N)]  # All vehicle types\n",
    "\n",
    "# Initializing vehicles\n",
    "Tampere.reset()\n",
    "for x0, v0, vtype in zip(X0, V0, V_CLASS):\n",
    "    veh_list.append(Tampere(x0=x0, v0=v0, l0=0, veh_type=vtype))\n",
    "\n",
    "# Setting leader for vehicle i\n",
    "for i in range(1, N):\n",
    "    veh_list[i].set_leader(veh_list[i - 1])\n",
    "\n",
    "ID_CAVN = [i for i, j in enumerate(V_CLASS) if j == \"CAV\"]"
   ]
  },
  {
   "cell_type": "markdown",
   "metadata": {
    "papermill": {
     "duration": 0.019818,
     "end_time": "2019-11-26T15:01:37.308431",
     "exception": false,
     "start_time": "2019-11-26T15:01:37.288613",
     "status": "completed"
    },
    "tags": []
   },
   "source": [
    "## Message characteristics \n",
    "\n",
    "The following cell computes the distances at which the messages are going to be broadcasted "
   ]
  },
  {
   "cell_type": "code",
   "execution_count": null,
   "metadata": {
    "papermill": {
     "duration": 0.036253,
     "end_time": "2019-11-26T15:01:37.368037",
     "exception": false,
     "start_time": "2019-11-26T15:01:37.331784",
     "status": "completed"
    },
    "tags": []
   },
   "outputs": [],
   "source": [
    "# Scenario conditions\n",
    "D_ACCEPT = X_CONGESTION - 1000  # Broad casting messages @ 14Km\n",
    "D_ACCEPT = D_ACCEPT - np.random.exponential(PERCEP_RADIOUS, N * 1000)\n",
    "D_ACCEPT = D_ACCEPT[(D_ACCEPT > MIN_DIST) & (D_ACCEPT < X_CONGESTION)]\n",
    "D_ACCEPT = np.random.choice(D_ACCEPT, N)\n",
    "\n",
    "# accept_dist = plot_histogram(D_ACCEPT,\"Acceptane Distance [Km]\")\n",
    "# show(accept_dist)"
   ]
  },
  {
   "cell_type": "markdown",
   "metadata": {
    "papermill": {
     "duration": 0.015254,
     "end_time": "2019-11-26T15:01:37.399056",
     "exception": false,
     "start_time": "2019-11-26T15:01:37.383802",
     "status": "completed"
    },
    "tags": []
   },
   "source": [
    "## Message information \n",
    "\n",
    "The following is just to illustrate the message generation and definitions for the simulation "
   ]
  },
  {
   "cell_type": "code",
   "execution_count": null,
   "metadata": {
    "papermill": {
     "duration": 0.024646,
     "end_time": "2019-11-26T15:01:37.437401",
     "exception": false,
     "start_time": "2019-11-26T15:01:37.412755",
     "status": "completed"
    },
    "tags": []
   },
   "outputs": [],
   "source": [
    "# Road works speed profile\n",
    "def lead_spd(x):\n",
    "    \"\"\"  Leader's function to control speed drop in space \n",
    "         Speed Drop: 20 m/s \n",
    "         Position: 15 Km\n",
    "         Duration: 20 Km\n",
    "    \"\"\"\n",
    "    return speed_pulse(x, drop=20, delay=X_CONGESTION, duration=L_CONGESTION)\n",
    "\n",
    "# x_t = np.linspace(0, 20000, 20000)\n",
    "# v_t = lead_spd(x_t)\n",
    "# leader_xt = plot_single_trace(\n",
    "#      x_t, v_t, \"Leaders' speed\", \"Space [m]\", \"Speed [m/s]\"\n",
    "# )\n",
    "# show(leader_xt)"
   ]
  },
  {
   "cell_type": "raw",
   "metadata": {
    "papermill": {
     "duration": 0.013243,
     "end_time": "2019-11-26T15:01:37.464628",
     "exception": false,
     "start_time": "2019-11-26T15:01:37.451385",
     "status": "completed"
    },
    "tags": []
   },
   "source": [
    "# Visualizing sent messgages\n",
    "\n",
    "send_message = Msg2\n",
    "tx_message = []\n",
    "\n",
    "for veh in veh_list:\n",
    "    d_accept = D_ACCEPT[veh.idx]\n",
    "    tx_message.append(send_message(d_accept))\n",
    "    \n",
    "x_ss = np.linspace(0,20000,1000)\n",
    "    \n",
    "acc_values = np.array(list(map(lambda x: x(x_ss), tx_message)))\n",
    "\n",
    "p=figure(title=\"Set of messages transmitted\")\n",
    "p.xaxis.axis_label = \"Position [m]\"\n",
    "p.yaxis.axis_label = \"Speed [m/s]\"\n",
    "for ac,vc in zip(acc_values,V_CLASS):\n",
    "    if vc == \"CAV\":\n",
    "        p.line(x_ss,ac,color='red')  \n",
    "show(p)    "
   ]
  },
  {
   "cell_type": "markdown",
   "metadata": {
    "papermill": {
     "duration": 0.013254,
     "end_time": "2019-11-26T15:01:37.491362",
     "exception": false,
     "start_time": "2019-11-26T15:01:37.478108",
     "status": "completed"
    },
    "tags": []
   },
   "source": [
    "## Main simulation\n",
    "\n",
    "The following code defines the simulation that is run. Execute the code directly in case you want to modify the message change `Msg1` by `Msg2`"
   ]
  },
  {
   "cell_type": "code",
   "execution_count": null,
   "metadata": {
    "papermill": {
     "duration": 2.746312,
     "end_time": "2019-11-26T15:01:40.250753",
     "exception": false,
     "start_time": "2019-11-26T15:01:37.504441",
     "status": "completed"
    },
    "tags": []
   },
   "outputs": [],
   "source": [
    "# Dynamical evalution\n",
    "X = X0\n",
    "V = V0\n",
    "A = A0\n",
    "\n",
    "send_message = Msg2  # Msg2 # Defines the type of message to be send\n",
    "\n",
    "d_accept = X_CONGESTION - 1000\n",
    "msg_fix = send_message(d_accept)\n",
    "\n",
    "for t in time:\n",
    "    for veh in veh_list:\n",
    "        if veh.type == \"CAV\" and not veh.acc:\n",
    "            d_accept = D_ACCEPT[veh.idx]\n",
    "            msg = send_message(d_accept)\n",
    "            veh.register_control_speed(msg)\n",
    "        elif veh.type == \"HDV\" and not veh.acc:\n",
    "            veh.register_control_speed(msg_fix)\n",
    "\n",
    "        veh.step_evolution(control=lead_spd)\n",
    "\n",
    "    V = np.vstack((V, np.array([veh.v for veh in veh_list])))\n",
    "    X = np.vstack((X, np.array([veh.x for veh in veh_list])))\n",
    "    A = np.vstack((A, np.array([veh.a for veh in veh_list])))\n",
    "\n",
    "V = V[1:, :]\n",
    "X = X[1:, :]\n",
    "A = A[1:, :]"
   ]
  },
  {
   "cell_type": "markdown",
   "metadata": {
    "papermill": {
     "duration": 0.013074,
     "end_time": "2019-11-26T15:01:40.277196",
     "exception": false,
     "start_time": "2019-11-26T15:01:40.264122",
     "status": "completed"
    },
    "tags": []
   },
   "source": [
    "# Indicators \n",
    "\n",
    "The following produces the total travel time for vehicles"
   ]
  },
  {
   "cell_type": "code",
   "execution_count": null,
   "metadata": {
    "papermill": {
     "duration": 0.267797,
     "end_time": "2019-11-26T15:01:40.562848",
     "exception": false,
     "start_time": "2019-11-26T15:01:40.295051",
     "status": "completed"
    },
    "tags": []
   },
   "outputs": [],
   "source": [
    "df_x = pd.DataFrame(X)\n",
    "now = dt.datetime(2019,11,26,13,0) # This is to set a special day for synchronous purposes \n",
    "delta = dt.timedelta(seconds=1)\n",
    "time_vector = [now+n*delta for n in range(T_TOTAL)]\n",
    "df_x.index = time_vector \n",
    "\n",
    "def find_travel_time(df):\n",
    "    time_entry  = min(df[df>df_x.iloc[0,0]].index) # minimum time after leader entrance \n",
    "    time_exit = max(df[df<X_CONGESTION+L_CONGESTION].index) # maximum time before exit\n",
    "    travel_time = time_exit-time_entry\n",
    "    return travel_time.total_seconds()\n",
    "\n",
    "ttt = df_x.apply(find_travel_time)\n",
    "\n",
    "tt_mean,tt_var = np.mean(ttt),np.std(ttt) \n",
    "ttt = sum(ttt)\n",
    "# tthist = plot_histogram(ttt)\n",
    "# show(tthist)"
   ]
  },
  {
   "cell_type": "markdown",
   "metadata": {
    "papermill": {
     "duration": 0.013038,
     "end_time": "2019-11-26T15:01:40.589398",
     "exception": false,
     "start_time": "2019-11-26T15:01:40.576360",
     "status": "completed"
    },
    "tags": []
   },
   "source": [
    "We then compute indicators for security, time to collision: \n",
    "\n",
    "**Notes**:\n",
    "* The model is simple and considers no acceleration from current speed \n",
    "* If vehicles are separating instead of colliding then the value of time will be negative hence we discard it \n",
    "* In cases vehicles are in equilibrium the time to collision is `inf` so we also discard those samples. "
   ]
  },
  {
   "cell_type": "code",
   "execution_count": null,
   "metadata": {
    "papermill": {
     "duration": 0.066895,
     "end_time": "2019-11-26T15:01:40.671027",
     "exception": false,
     "start_time": "2019-11-26T15:01:40.604132",
     "status": "completed"
    },
    "tags": []
   },
   "outputs": [],
   "source": [
    "# Time to colission\n",
    "\n",
    "df_v = pd.DataFrame(V)\n",
    "df_v.index = time_vector \n",
    "df_ttc = -df_x.diff(axis=1)/df_v.diff(axis=1)\n",
    "df_ttc = df_ttc.replace([np.inf, -np.inf], np.nan)\n",
    "ttc = df_ttc[df_ttc>0].mean(axis=1,skipna=True).mean(axis=0,skipna=True)\n",
    "\n",
    "# Due to some computational issues time to collision will be avoided instead we compute "
   ]
  },
  {
   "cell_type": "markdown",
   "metadata": {
    "papermill": {
     "duration": 0.013786,
     "end_time": "2019-11-26T15:01:40.698599",
     "exception": false,
     "start_time": "2019-11-26T15:01:40.684813",
     "status": "completed"
    },
    "tags": []
   },
   "source": [
    "Computing spacing for safety characteristics in the network"
   ]
  },
  {
   "cell_type": "code",
   "execution_count": null,
   "metadata": {
    "papermill": {
     "duration": 0.022203,
     "end_time": "2019-11-26T15:01:40.737869",
     "exception": false,
     "start_time": "2019-11-26T15:01:40.715666",
     "status": "completed"
    },
    "tags": []
   },
   "outputs": [],
   "source": [
    "# Average Space headway \n",
    "df_s = -df_x.diff(axis=1).mean(axis=1,skipna=True)"
   ]
  },
  {
   "cell_type": "markdown",
   "metadata": {
    "papermill": {
     "duration": 0.014044,
     "end_time": "2019-11-26T15:01:40.766669",
     "exception": false,
     "start_time": "2019-11-26T15:01:40.752625",
     "status": "completed"
    },
    "tags": []
   },
   "source": [
    "# Plots and results \n",
    "\n",
    "The following are extracts of some plots and results to be analyzed "
   ]
  },
  {
   "cell_type": "code",
   "execution_count": null,
   "metadata": {
    "papermill": {
     "duration": 2.061272,
     "end_time": "2019-11-26T15:01:42.849175",
     "exception": false,
     "start_time": "2019-11-26T15:01:40.787903",
     "status": "completed"
    },
    "tags": []
   },
   "outputs": [],
   "source": [
    "# Creating plots\n",
    "x_t = time\n",
    "v_t = V[:, 0]\n",
    "leader_vt = plot_single_trace(x_t, v_t, \"Leaders' speed\", \"Time [s]\", \"Speed [m/s]\")\n",
    "x_t = time\n",
    "a_t = A[:, 0]\n",
    "leader_at = plot_single_trace(x_t, a_t, \"Leaders' acceleration\", \"Time [m]\", \"Acceleration [m/s²]\")\n",
    "zooms = ((MIN_DIST, X_CONGESTION + L_CONGESTION), (-1, U_I + 1), (A_MIN - 0.5, A_MAX + 0.5))\n",
    "titles = (\n",
    "    f\"X-Time MPR={MPR*100}% F={TF*3600}[veh/h] D={MIN_DIST}[m]\",\n",
    "    f\"V-Time MPR={MPR*100}% F={TF*3600}[veh/h] D={MIN_DIST}[m]\",\n",
    "    f\"X-Time MPR={MPR*100}% F={TF*3600}[veh/h] D={MIN_DIST}[m]\"\n",
    "  )\n",
    "pos, spd, acc = plot_xva(time, X, V, A, y_range=zooms, titles=titles)\n",
    "poswoz = plot_multiple_trajectories(time, X, V, titles[0], \"Time [secs]\", \"Position [m]\")\n",
    "# show(leader_at)"
   ]
  },
  {
   "cell_type": "markdown",
   "metadata": {
    "papermill": {
     "duration": 0.013215,
     "end_time": "2019-11-26T15:01:42.875651",
     "exception": false,
     "start_time": "2019-11-26T15:01:42.862436",
     "status": "completed"
    },
    "tags": []
   },
   "source": [
    "# Exporting files\n",
    "\n",
    "The following are extracts of some plots and results to be analyzed "
   ]
  },
  {
   "cell_type": "code",
   "execution_count": null,
   "metadata": {
    "papermill": {
     "duration": 1.029231,
     "end_time": "2019-11-26T15:01:43.918317",
     "exception": false,
     "start_time": "2019-11-26T15:01:42.889086",
     "status": "completed"
    },
    "tags": []
   },
   "outputs": [],
   "source": [
    "# Writting CSV File for Phem \n",
    "\n",
    "df_X = pd.DataFrame(X)\n",
    "df_X = df_X.melt(var_name=\"id\",value_name=\"x\")\n",
    "df_X = df_X.reset_index()\n",
    "df_X = df_X.rename(columns={'index': 'time',\"id\":\"vehicle number\"})\n",
    "df_X[\"y\"] = 0\n",
    "df_v = pd.DataFrame(V)\n",
    "df_V = df_v.melt(var_name=\"id\",value_name=\"v\")\n",
    "df_X[\"speed\"]=df_V[\"v\"]*3.6 \n",
    "df_X[\"road inclination\"] = 0 \n",
    "df_X[\"vehicle type\"] = 100\n",
    "df_X[\"segment number\"] = 0\n",
    "correct_order = [0,2,3,1,4,5,6,7]\n",
    "df_X = df_X[df_X.columns[correct_order]]\n",
    "data = \"data/csv/\"\n",
    "filename = f\"phem_mpr-{MPR}_q-{Q_PERC}_d-{MIN_DIST}.csv\"\n",
    "df_X.to_csv(data+filename)"
   ]
  },
  {
   "cell_type": "code",
   "execution_count": null,
   "metadata": {
    "papermill": {
     "duration": 0.026944,
     "end_time": "2019-11-26T15:01:43.959326",
     "exception": false,
     "start_time": "2019-11-26T15:01:43.932382",
     "status": "completed"
    },
    "tags": []
   },
   "outputs": [],
   "source": [
    "# Writting CSV File for Spacing \n",
    "filename = f\"spacing_mpr-{MPR}_q-{Q_PERC}_d-{MIN_DIST}.csv\"\n",
    "data = \"data/csv/\"\n",
    "df_s.to_csv(data+filename)"
   ]
  },
  {
   "cell_type": "code",
   "execution_count": null,
   "metadata": {
    "papermill": {
     "duration": 16.570855,
     "end_time": "2019-11-26T15:02:00.544014",
     "exception": false,
     "start_time": "2019-11-26T15:01:43.973159",
     "status": "completed"
    },
    "tags": []
   },
   "outputs": [],
   "source": [
    "# Writting trajectories file\n",
    "data = \"data/\"\n",
    "filename = f\"img/cases/position/pos_mpr-{MPR}_q-{Q_PERC}_d-{MIN_DIST}.png\"\n",
    "export_png(pos, filename=data + filename)\n",
    "filename = f\"img/cases/position/poswoz_mpr-{MPR}_q-{Q_PERC}_d-{MIN_DIST}.png\"\n",
    "export_png(poswoz, filename=data + filename)\n",
    "print(f\"File: {filename} has been saved\")\n",
    "filename = f\"img/cases/speed/spd_mpr-{MPR}_q-{Q_PERC}_d-{MIN_DIST}.png\"\n",
    "export_png(spd, filename=data + filename)\n",
    "print(f\"File: {filename} has been saved\")\n",
    "filename = f\"img/cases/acceleration/acc_mpr-{MPR}_q-{Q_PERC}_d-{MIN_DIST}.png\"\n",
    "export_png(acc, filename=data + filename)\n",
    "print(f\"File: {filename} has been saved\")"
   ]
  },
  {
   "cell_type": "code",
   "execution_count": null,
   "metadata": {
    "papermill": {
     "duration": 0.024811,
     "end_time": "2019-11-26T15:02:00.586926",
     "exception": false,
     "start_time": "2019-11-26T15:02:00.562115",
     "status": "completed"
    },
    "tags": []
   },
   "outputs": [],
   "source": [
    "# Writting indicators file \n",
    "\n",
    "csvTitle = ['mpr','q','distance','meanTT','stdTT','totalTT','TTC']\n",
    "csvData = [MPR,TF,MIN_DIST,tt_mean,tt_var,ttt,ttc]\n",
    "print(f\"MPR:{MPR},Q:{TF},D:{MIN_DIST}\")\n",
    "\n",
    "try:\n",
    "    with open('data/Indicators.csv','a') as writeFile:\n",
    "        writer = csv.writer(writeFile)\n",
    "        writer.writerow(csvData)\n",
    "except FileNotFoundError:\n",
    "    with open('data/Indicators.csv','w') as writeFile:\n",
    "        writer = csv.writer(writeFile)\n",
    "        writer.writerow(csvTitle)\n",
    "        writer.writerow(csvData)\n",
    "        "
   ]
  },
  {
   "cell_type": "markdown",
   "metadata": {
    "papermill": {
     "duration": 0.014573,
     "end_time": "2019-11-26T15:02:00.616508",
     "exception": false,
     "start_time": "2019-11-26T15:02:00.601935",
     "status": "completed"
    },
    "tags": []
   },
   "source": [
    "A. Ladino"
   ]
  }
 ],
 "metadata": {
  "celltoolbar": "Tags",
  "file_extension": ".py",
  "kernelspec": {
   "display_name": "Python 3",
   "language": "python",
   "name": "python3"
  },
  "language_info": {
   "codemirror_mode": {
    "name": "ipython",
    "version": 3
   },
   "file_extension": ".py",
   "mimetype": "text/x-python",
   "name": "python",
   "nbconvert_exporter": "python",
   "pygments_lexer": "ipython3",
   "version": "3.7.5"
  },
  "mimetype": "text/x-python",
  "name": "python",
  "npconvert_exporter": "python",
  "papermill": {
   "duration": 25.858946,
   "end_time": "2019-11-26T15:02:01.261550",
   "environment_variables": {},
   "exception": null,
   "input_path": "general.ipynb",
   "output_path": "general.ipynb",
   "parameters": {
    "MIN_DIST": 10000,
    "MPR": 0.4,
    "Q_PERC": 1
   },
   "start_time": "2019-11-26T15:01:35.402604",
   "version": "1.2.0"
  },
  "pygments_lexer": "ipython3",
  "version": 3
 },
 "nbformat": 4,
 "nbformat_minor": 4
}
