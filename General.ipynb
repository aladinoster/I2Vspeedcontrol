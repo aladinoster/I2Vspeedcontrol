{
 "cells": [
  {
   "cell_type": "markdown",
   "metadata": {},
   "source": [
    "# Message simulation for I2V Connectivity\n",
    "\n",
    "The following corresponds to a test for simulating impact of vehicle-to-infrastructure (V2I) communication in traffic systems. \n",
    "\n",
    "## General description\n",
    "\n",
    "For this application it is considered the simulation of microscopic traffic models where longitudinal position follow a specified behivior defined by two main components. The *car following* behavior describes the behavior of the vehicle in its longitudinal dynamics while the *lane change* behavior describes the behavior in the lateral position. \n",
    "\n",
    "In order to modify traffic behavior for a condition, the system is modeled via traffic model where V2I messages modify vehicle speed or lateral position   \n",
    "\n",
    "### Car following behavior\n",
    "\n",
    "For the sake of clarity, the following corresponds to the notations for variable description in the model. It is considered the vehicle position of a vehicle as $x_n$ and the headway space between a vehicle and its leader as $s_n = x_{n-1}-x_{n}$. The vehicle's speed and acceleration are defined as $v_n$,$a_n$ respectively.\n",
    "\n",
    "For a determined vehicle in the network the longitudinal dynamics are determined by the acceleration behavior. In this case it is considred Tampere's Law. \n",
    "\n",
    "$$ \n",
    "a_n(t+T_n) = \\min \\left(c_{1,n-1}\\Delta v_{n-1,n} + \n",
    "c_{2}\\left(\\Delta x_{n,n-1} - \\left(s_0+\\tau v_n(t)\\right)\\right),\n",
    "c_{3}\\left(v^\\star(t) - v_n(t)\\right)\\right)\n",
    "$$\n",
    "\n",
    "One of the main features of this model is the adaptability to a specific speed condition, while preserving properties of the traffic such as the car following behavior in congestion situation. This feature makes it possible to trace features in the fundamental diagram. \n",
    "\n",
    "*To implement the model a `class` object called `Tampere` has been implemented. The class intends to describe the full behavior of the vehicle.* \n",
    "\n",
    "#### Parameters \n",
    "\n",
    "So far parameters in the model have been fixed although random scenarios can be also considered.\n",
    "\n",
    "| Parameter     | Value     | Units |\n",
    ":--------------:|:---------:|:------:\n",
    "$$c_1,c_2,c_3$$ | 0.5       |\n",
    "$$\\tau$$        | $$\\frac{1}{wk_x}$$ | [s]\n",
    "$$w$$           | $$6.25$$  | [m/s]\n",
    "$$k_x$$         | $$0.16$$  | [veh/km]\n",
    "$$u_i$$         | $$25$$    | [m/s]\n",
    "\n",
    "## Simulation Usage \n",
    "\n",
    "Inputs for simulation: \n",
    "\n",
    "The inputs for simulation are: \n",
    "\n",
    "* **Flow**: Vehicles are tested up to maximum capacity in free flow condition \n",
    "* **Market Penetration Rate (MPR)**: Penetration rate for connected vehicles \n",
    "* **Speed Drop**: Final speed limit for connected vehicles \n"
   ]
  },
  {
   "cell_type": "code",
   "execution_count": null,
   "metadata": {},
   "outputs": [],
   "source": []
  }
 ],
 "metadata": {
  "kernelspec": {
   "display_name": "Python [conda env:v2vcflaw]",
   "language": "python",
   "name": "conda-env-v2vcflaw-py"
  },
  "language_info": {
   "codemirror_mode": {
    "name": "ipython",
    "version": 3
   },
   "file_extension": ".py",
   "mimetype": "text/x-python",
   "name": "python",
   "nbconvert_exporter": "python",
   "pygments_lexer": "ipython3",
   "version": "3.7.3"
  }
 },
 "nbformat": 4,
 "nbformat_minor": 4
}
