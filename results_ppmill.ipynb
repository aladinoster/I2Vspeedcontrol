{
 "cells": [
  {
   "cell_type": "code",
   "execution_count": 1,
   "metadata": {},
   "outputs": [],
   "source": [
    "from carfollow import Tampere, W_I, U_I, K_X, A_MIN, A_MAX\n",
    "from support import speed_pulse\n",
    "from messages import Msg1, Msg2\n",
    "import numpy as np\n",
    "import pandas as pd\n",
    "\n",
    "from plottools import plot_single_trace, plot_xva, plot_histogram, plot_multiple_trajectories\n",
    "from bokeh.plotting import figure, show, output_file\n",
    "from bokeh.io import output_notebook, export_png\n",
    "from bokeh.layouts import row, column"
   ]
  },
  {
   "cell_type": "code",
   "execution_count": 2,
   "metadata": {
    "tags": [
     "parameters"
    ]
   },
   "outputs": [],
   "source": [
    "MPR = 0.1  # Market penetration rate\n",
    "MIN_DIST = 5000  # Minimum distance for acceptance\n",
    "Q_PERC = 0.3  # [0,1] Reduces flow, at 1 there's capacity."
   ]
  },
  {
   "cell_type": "code",
   "execution_count": 3,
   "metadata": {},
   "outputs": [],
   "source": [
    "# Constant values\n",
    "N = 100  # Number of vehicles to simulate\n",
    "T_TOTAL = 960  # Simulation time [s]\n",
    "time = np.arange(T_TOTAL)  # Time vector\n",
    "\n",
    "# Traffic characteristics\n",
    "X_CONGESTION = 15000  # Position of congestion in space [m]\n",
    "L_CONGESTION = 1500  # Approximate congestion length in space [m]\n",
    "\n",
    "# Messages for V2V\n",
    "SPEED_REDUCTION = 5.5  # Amount of speed reduction [m/s]\n",
    "PERCEP_RADIOUS = 3000  # Radious of perception of the broadcasted messages [m]"
   ]
  },
  {
   "cell_type": "code",
   "execution_count": 4,
   "metadata": {},
   "outputs": [],
   "source": [
    "# Capacity\n",
    "C = (U_I * W_I * K_X) / (W_I + U_I)\n",
    "# print(f\"Capacity value per lane: {C*3600} [veh/h]\")\n",
    "\n",
    "# Vehicle Initial position / speed\n",
    "TF = C * Q_PERC"
   ]
  },
  {
   "cell_type": "code",
   "execution_count": 5,
   "metadata": {},
   "outputs": [],
   "source": [
    "# Vehicle initializer\n",
    "X0 = np.flip(np.arange(0, N) * (W_I + U_I) / (W_I * K_X) * 1 / Q_PERC)\n",
    "V0 = np.ones(N) * U_I\n",
    "A0 = np.zeros(N)\n",
    "\n",
    "veh_list = []\n",
    "\n",
    "np.random.seed(42)  # Reproducibility\n",
    "ID_CAV = np.random.randint(1, N - 1, int(N * MPR))  # Id Connected Vehicles\n",
    "D_CLASS = {k: \"CAV\" for k in ID_CAV}\n",
    "V_CLASS = [D_CLASS.get(i, \"HDV\") for i in range(N)]  # All vehicle types\n",
    "\n",
    "# Initializing vehicles\n",
    "Tampere.reset()\n",
    "for x0, v0, vtype in zip(X0, V0, V_CLASS):\n",
    "    veh_list.append(Tampere(x0=x0, v0=v0, l0=0, veh_type=vtype))\n",
    "\n",
    "# Setting leader for vehicle i\n",
    "for i in range(1, N):\n",
    "    veh_list[i].set_leader(veh_list[i - 1])\n",
    "\n",
    "ID_CAVN = [i for i, j in enumerate(V_CLASS) if j == \"CAV\"]"
   ]
  },
  {
   "cell_type": "code",
   "execution_count": 6,
   "metadata": {},
   "outputs": [],
   "source": [
    "# Scenario conditions\n",
    "D_ACCEPT = X_CONGESTION - 1000  # Broad casting messages @ 14Km\n",
    "D_ACCEPT = D_ACCEPT - np.random.exponential(PERCEP_RADIOUS, N * 1000)\n",
    "D_ACCEPT = D_ACCEPT[(D_ACCEPT > MIN_DIST) & (D_ACCEPT < X_CONGESTION)]\n",
    "D_ACCEPT = np.random.choice(D_ACCEPT, N)"
   ]
  },
  {
   "cell_type": "code",
   "execution_count": 7,
   "metadata": {},
   "outputs": [],
   "source": [
    "# Road works speed profile\n",
    "def lead_spd(x):\n",
    "    \"\"\"  Leader's function to control speed drop in space \n",
    "         Speed Drop: 20 m/s \n",
    "         Position: 15 Km\n",
    "         Duration: 20 Km\n",
    "    \"\"\"\n",
    "    return speed_pulse(x, drop=20, delay=X_CONGESTION, duration=L_CONGESTION)"
   ]
  },
  {
   "cell_type": "code",
   "execution_count": 8,
   "metadata": {},
   "outputs": [],
   "source": [
    "# Dynamical evalution\n",
    "X = X0\n",
    "V = V0\n",
    "A = A0\n",
    "\n",
    "send_message = Msg2  # Msg2 # Defines the type of message to be send\n",
    "\n",
    "d_accept = X_CONGESTION - 1000\n",
    "msg_fix = send_message(d_accept)\n",
    "\n",
    "for t in time:\n",
    "    for veh in veh_list:\n",
    "        if veh.type == \"CAV\" and not veh.acc:\n",
    "            d_accept = D_ACCEPT[veh.idx]\n",
    "            msg = send_message(d_accept)\n",
    "            veh.register_control_speed(msg)\n",
    "        elif veh.type == \"HDV\" and not veh.acc:\n",
    "            veh.register_control_speed(msg_fix)\n",
    "\n",
    "        veh.step_evolution(control=lead_spd)\n",
    "\n",
    "    V = np.vstack((V, np.array([veh.v for veh in veh_list])))\n",
    "    X = np.vstack((X, np.array([veh.x for veh in veh_list])))\n",
    "    A = np.vstack((A, np.array([veh.a for veh in veh_list])))\n",
    "\n",
    "V = V[1:, :]\n",
    "X = X[1:, :]\n",
    "A = A[1:, :]"
   ]
  },
  {
   "cell_type": "code",
   "execution_count": 9,
   "metadata": {},
   "outputs": [],
   "source": [
    "# Creating plots\n",
    "x_t = time\n",
    "v_t = V[:, 0]\n",
    "leader_vt = plot_single_trace(x_t, v_t, \"Leaders' speed\", \"Time [s]\", \"Speed [m/s]\")\n",
    "x_t = time\n",
    "a_t = A[:, 0]\n",
    "leader_at = plot_single_trace(x_t, a_t, \"Leaders' acceleration\", \"Time [m]\", \"Acceleration [m/s²]\")\n",
    "zooms = ((MIN_DIST, X_CONGESTION + L_CONGESTION), (-1, U_I + 1), (A_MIN - 0.5, A_MAX + 0.5))\n",
    "pos, spd, acc = plot_xva(time, X, V, A, y_range=zooms)\n",
    "poswoz = plot_multiple_trajectories(time, X, V, \"Position\", \"Time [secs]\", \"Position [m]\")"
   ]
  },
  {
   "cell_type": "code",
   "execution_count": 10,
   "metadata": {},
   "outputs": [
    {
     "name": "stdout",
     "output_type": "stream",
     "text": [
      "File: poswoz_mpr-0.1_q-0.3_d-5000.png has been saved\n",
      "File: spd_mpr-0.1_q-0.3_d-5000.png has been saved\n",
      "File: acc_mpr-0.1_q-0.3_d-5000.png has been saved\n"
     ]
    }
   ],
   "source": [
    "# Writting trajectories file\n",
    "data = \"data/\"\n",
    "filename = f\"pos_mpr-{MPR}_q-{Q_PERC}_d-{MIN_DIST}.png\"\n",
    "export_png(pos, filename=data + filename)\n",
    "filename = f\"poswoz_mpr-{MPR}_q-{Q_PERC}_d-{MIN_DIST}.png\"\n",
    "export_png(poswoz, filename=data + filename)\n",
    "print(f\"File: {filename} has been saved\")\n",
    "filename = f\"spd_mpr-{MPR}_q-{Q_PERC}_d-{MIN_DIST}.png\"\n",
    "export_png(spd, filename=data + filename)\n",
    "print(f\"File: {filename} has been saved\")\n",
    "filename = f\"acc_mpr-{MPR}_q-{Q_PERC}_d-{MIN_DIST}.png\"\n",
    "export_png(acc, filename=data + filename)\n",
    "print(f\"File: {filename} has been saved\")"
   ]
  },
  {
   "cell_type": "markdown",
   "metadata": {},
   "source": [
    "A. Ladino"
   ]
  }
 ],
 "metadata": {
  "celltoolbar": "Tags",
  "file_extension": ".py",
  "kernelspec": {
   "display_name": "Python 3",
   "language": "python",
   "name": "python3"
  },
  "language_info": {
   "codemirror_mode": {
    "name": "ipython",
    "version": 3
   },
   "file_extension": ".py",
   "mimetype": "text/x-python",
   "name": "python",
   "nbconvert_exporter": "python",
   "pygments_lexer": "ipython3",
   "version": "3.7.3"
  },
  "mimetype": "text/x-python",
  "name": "python",
  "npconvert_exporter": "python",
  "pygments_lexer": "ipython3",
  "version": 3
 },
 "nbformat": 4,
 "nbformat_minor": 4
}
